{
 "cells": [
  {
   "cell_type": "markdown",
   "id": "8043e5e9",
   "metadata": {},
   "source": [
    "# Tech Challenge PosTech - FIAP\n",
    "\n",
    "Notebook para entrega do Tech Challenge da pós graduação em DATA Analytics na FIAP\n",
    "\n",
    "- Daniel Lins Toqueiro"
   ]
  },
  {
   "cell_type": "markdown",
   "id": "17bf7c53",
   "metadata": {},
   "source": [
    "## O problema\n",
    "Você foi recentemente alocado em uma equipe de cientistas de dados de um grande fundo de investimentos brasileiro. Sua missão inicial é desenvolver um modelo preditivo capaz de **prever se o índice IBOVESPA vai fechar em alta ou baixa no dia seguinte,** com base em dados históricos do próprio índice. Esse modelo será usado como insumo para alimentar dashboards internos de tomada de decisão dos analistas quantitativos da empresa."
   ]
  },
  {
   "cell_type": "markdown",
   "id": "90a93437",
   "metadata": {},
   "source": [
    "### Configurações iniciais"
   ]
  },
  {
   "cell_type": "markdown",
   "id": "b08465a4",
   "metadata": {},
   "source": [
    "#### Importação das Bibliotecas"
   ]
  },
  {
   "cell_type": "code",
   "execution_count": 2,
   "id": "28687503",
   "metadata": {},
   "outputs": [],
   "source": [
    "import torch\n",
    "import numpy as np\n",
    "import random\n",
    "import os\n",
    "import yfinance as yf\n",
    "from torch.utils.data import Dataset, DataLoader\n",
    "import torch.nn as nn\n",
    "import torch.optim as optim\n",
    "\n",
    "from sklearn.metrics import confusion_matrix, ConfusionMatrixDisplay, accuracy_score\n",
    "import matplotlib.pyplot as plt\n"
   ]
  },
  {
   "cell_type": "markdown",
   "id": "39a5b7b9",
   "metadata": {},
   "source": [
    "#### Configurações de Reprodutibilidade"
   ]
  },
  {
   "cell_type": "code",
   "execution_count": 3,
   "id": "fa74ccb1",
   "metadata": {},
   "outputs": [
    {
     "name": "stdout",
     "output_type": "stream",
     "text": [
      "Semente de aleatoriedade definida para: 42\n"
     ]
    }
   ],
   "source": [
    "# FUNÇÃO PARA GARANTIR REPRODUTIBILIDADE\n",
    "\n",
    "def definir_semente_reprodutibilidade_aprimorada(semente):\n",
    "    \"\"\"\n",
    "    Define a semente para todas as fontes de aleatoriedade\n",
    "    para garantir a reprodutibilidade dos resultados.\n",
    "    \"\"\"\n",
    "    random.seed(semente)\n",
    "    os.environ['PYTHONHASHSEED'] = str(semente)\n",
    "    np.random.seed(semente)\n",
    "    torch.manual_seed(semente)\n",
    "    if torch.cuda.is_available():\n",
    "        torch.cuda.manual_seed_all(semente)\n",
    "        torch.backends.cudnn.deterministic = True\n",
    "        torch.backends.cudnn.benchmark = False\n",
    "    print(f\"Semente de aleatoriedade definida para: {semente}\")\n",
    "\n",
    "# EXECUÇÃO DA FUNÇÃO\n",
    "SEMENTE_GLOBAL = 42\n",
    "\n",
    "definir_semente_reprodutibilidade_aprimorada(SEMENTE_GLOBAL)\n",
    "\n"
   ]
  },
  {
   "cell_type": "markdown",
   "id": "bc87dcf3",
   "metadata": {},
   "source": [
    "### Aquisição dos dados"
   ]
  },
  {
   "cell_type": "markdown",
   "id": "0d72901d",
   "metadata": {},
   "source": [
    "Obs.: Durante as sessões de Grupo de Estudo o professor informou que seria possível fazer a aquisição dos dados utilizando o **Yahoo Finance**, foi escolhida esta solução ao invés de baixar manualmente os dados no site **Investing.com** porque esta alternativa permite adquirir os dados de forma programática.\n",
    "\n",
    "\n"
   ]
  },
  {
   "cell_type": "markdown",
   "id": "86e35b6e",
   "metadata": {},
   "source": [
    "#### Requisitos:\n",
    "- Dados no período “diário” ✅\n",
    "- Intervalo de pelo menos 2 anos de dados. ✅\n",
    "- Pré-processamento dos dados.✅"
   ]
  },
  {
   "cell_type": "markdown",
   "id": "22c13110",
   "metadata": {},
   "source": [
    "#### Adquirindo os dados do Ibovespa"
   ]
  },
  {
   "cell_type": "code",
   "execution_count": 4,
   "id": "31976a27",
   "metadata": {},
   "outputs": [
    {
     "name": "stdout",
     "output_type": "stream",
     "text": [
      "📥 Baixando dados do IBOVESPA (^BVSP) de 2000-01-01 até 2025-07-01...\n",
      "\n"
     ]
    },
    {
     "name": "stderr",
     "output_type": "stream",
     "text": [
      "C:\\Users\\Daniel\\AppData\\Local\\Temp\\ipykernel_29700\\2952932733.py:10: FutureWarning: YF.download() has changed argument auto_adjust default to True\n",
      "  dados_ibov = yf.download(ticker, start=data_inicial, end=data_final)\n",
      "[*********************100%***********************]  1 of 1 completed"
     ]
    },
    {
     "name": "stdout",
     "output_type": "stream",
     "text": [
      "✅ Download concluído!\n",
      "\n",
      "📋 Primeiros 5 registros dos dados baixados:\n",
      "Price         Close     High      Low     Open Volume\n",
      "Ticker        ^BVSP    ^BVSP    ^BVSP    ^BVSP  ^BVSP\n",
      "Date                                                 \n",
      "2000-01-03  16930.0  17408.0  16719.0  17098.0      0\n",
      "2000-01-04  15851.0  16908.0  15851.0  16908.0      0\n",
      "2000-01-05  16245.0  16302.0  15350.0  15871.0      0\n",
      "2000-01-06  16107.0  16499.0  15977.0  16237.0      0\n",
      "2000-01-07  16309.0  16449.0  16125.0  16125.0      0\n",
      "\n",
      "📋 Temos 6313 dias de dados.\n"
     ]
    },
    {
     "name": "stderr",
     "output_type": "stream",
     "text": [
      "\n"
     ]
    }
   ],
   "source": [
    "\n",
    "# O ticker para o IBOVESPA no Yahoo Finance é '^BVSP'\n",
    "ticker = '^BVSP'\n",
    "\n",
    "# Define o período. Vamos buscar desde 1º de janeiro de 2010 para garantir um intervalo grande, como sugerido. \n",
    "data_inicial = '2000-01-01'\n",
    "data_final = '2025-07-01' \n",
    "\n",
    "#Baixando os dados históricos do IBOVESPA\n",
    "print(f\"📥 Baixando dados do IBOVESPA ({ticker}) de {data_inicial} até {data_final}...\\n\")\n",
    "dados_ibov = yf.download(ticker, start=data_inicial, end=data_final)\n",
    "print(\"✅ Download concluído!\")\n",
    "\n",
    "# Visualização dos primeiros registros do Ibovespa\n",
    "print(\"\\n📋 Primeiros 5 registros dos dados baixados:\")\n",
    "print(dados_ibov.head())\n",
    "\n",
    "print(f\"\\n📋 Temos {len(dados_ibov)} dias de dados.\")"
   ]
  },
  {
   "cell_type": "markdown",
   "id": "a2bb0705",
   "metadata": {},
   "source": [
    "#### Realizando o pré-processamento - Ibovespa"
   ]
  },
  {
   "cell_type": "code",
   "execution_count": 5,
   "id": "3d284e81",
   "metadata": {},
   "outputs": [],
   "source": [
    "# Descartando dados desnecessários e renomeando colunas\n",
    "# Mantendo apenas as colunas relevantes: 'Close', 'High', 'Low', 'Open', 'Volume'\n",
    "# E renomeando a coluna de data para 'Date' e definindo como índice\n",
    "dados_ibov = dados_ibov[['Close', \"High\", \"Low\", \"Open\", \"Volume\"]].dropna().reset_index()\n",
    "dados_ibov.columns = ['Date', 'Close', 'High', 'Low', 'Open', 'Volume']\n",
    "dados_ibov.set_index('Date', inplace=True)"
   ]
  },
  {
   "cell_type": "markdown",
   "id": "094d287a",
   "metadata": {},
   "source": [
    "#### Dolar\n",
    "Além dos dados do Ibovespa puxamos também a série histórica do **Dolar** para utilizar em nosso modelo, também vamos puxar os dados utilizando o Yahoo Finance."
   ]
  },
  {
   "cell_type": "code",
   "execution_count": 6,
   "id": "c24c224d",
   "metadata": {},
   "outputs": [
    {
     "name": "stderr",
     "output_type": "stream",
     "text": [
      "C:\\Users\\Daniel\\AppData\\Local\\Temp\\ipykernel_29700\\3089713958.py:6: FutureWarning: YF.download() has changed argument auto_adjust default to True\n",
      "  dados_dolar = yf.download(ticker, start=data_inicial, end=data_final)\n"
     ]
    },
    {
     "name": "stdout",
     "output_type": "stream",
     "text": [
      "📥 Baixando dados do Dolar (USDBRL=X) de 2000-01-01 até 2025-07-01...\n",
      "\n"
     ]
    },
    {
     "name": "stderr",
     "output_type": "stream",
     "text": [
      "[*********************100%***********************]  1 of 1 completed"
     ]
    },
    {
     "name": "stdout",
     "output_type": "stream",
     "text": [
      "✅ Download concluído!\n",
      "\n",
      "📋 Primeiros 5 registros dos dados baixados:\n",
      "Price         Close     High      Low     Open   Volume\n",
      "Ticker     USDBRL=X USDBRL=X USDBRL=X USDBRL=X USDBRL=X\n",
      "Date                                                   \n",
      "2003-12-01    2.923    2.946    2.923    2.946        0\n",
      "2003-12-02    2.931    2.931    2.923    2.923        0\n",
      "2003-12-03    2.931    2.936    2.926    2.931        0\n",
      "2003-12-04    2.943    2.943    2.931    2.931        0\n",
      "2003-12-05    2.934    2.948    2.934    2.943        0\n",
      "\n",
      "📋 Temos 5181 dias de dados.\n"
     ]
    },
    {
     "name": "stderr",
     "output_type": "stream",
     "text": [
      "\n"
     ]
    }
   ],
   "source": [
    "# O ticker para o Dolar no Yahoo Finance é 'USDBRL=X'\n",
    "ticker = \"USDBRL=X\"\n",
    "\n",
    "#Usaremos as mesmas datas para o Dólar, de 1º de janeiro de 2010 até 1º de julho de 2025\n",
    "print(f\"📥 Baixando dados do Dolar ({ticker}) de {data_inicial} até {data_final}...\\n\")\n",
    "dados_dolar = yf.download(ticker, start=data_inicial, end=data_final)\n",
    "print(\"✅ Download concluído!\")\n",
    "# Visualização dos primeiros registros do Dólar\n",
    "print(\"\\n📋 Primeiros 5 registros dos dados baixados:\")\n",
    "print(dados_dolar.head())\n",
    "\n",
    "print(f\"\\n📋 Temos {len(dados_dolar)} dias de dados.\")\n",
    "\n"
   ]
  },
  {
   "cell_type": "markdown",
   "id": "5d931879",
   "metadata": {},
   "source": [
    "#### Realizando o pré-processamento - Dolar"
   ]
  },
  {
   "cell_type": "code",
   "execution_count": 7,
   "id": "b33930b0",
   "metadata": {},
   "outputs": [],
   "source": [
    "# Descartando dados desnecessários e renomeando colunas\n",
    "# Mantendo apenas as colunas relevantes: 'Close', 'High', 'Low', 'Open', 'Volume'\n",
    "# E renomeando a coluna de data para 'Date' e definindo como índice\n",
    "dados_dolar = dados_dolar[['Close', \"High\", \"Low\", \"Open\", \"Volume\"]].dropna().reset_index()\n",
    "dados_dolar.columns = ['Date', 'Close', 'High', 'Low', 'Open', 'Volume']\n",
    "dados_dolar.set_index('Date', inplace=True)\n"
   ]
  },
  {
   "cell_type": "markdown",
   "id": "f2a8e743",
   "metadata": {},
   "source": [
    "#### Juntando os dados - Ibovespa e Dolar\n",
    "\n",
    " "
   ]
  },
  {
   "cell_type": "code",
   "execution_count": 8,
   "id": "3d81d6b2",
   "metadata": {},
   "outputs": [
    {
     "name": "stdout",
     "output_type": "stream",
     "text": [
      "\n",
      "Dados combinados do IBOVESPA e Dólar:\n",
      "              Close     High      Low     Open  Volume  Close_Dolar  \\\n",
      "Date                                                                  \n",
      "2003-12-01  20521.0  20522.0  20184.0  20184.0       0        2.923   \n",
      "2003-12-02  20458.0  20630.0  20354.0  20523.0       0        2.931   \n",
      "2003-12-03  20540.0  20586.0  20322.0  20462.0       0        2.931   \n",
      "2003-12-04  20414.0  20570.0  20323.0  20540.0       0        2.943   \n",
      "2003-12-05  20880.0  20922.0  20418.0  20418.0       0        2.934   \n",
      "\n",
      "            High_Dolar  Low_Dolar  Open_Dolar  Volume_Dolar  \n",
      "Date                                                         \n",
      "2003-12-01       2.946      2.923       2.946             0  \n",
      "2003-12-02       2.931      2.923       2.923             0  \n",
      "2003-12-03       2.936      2.926       2.931             0  \n",
      "2003-12-04       2.943      2.931       2.931             0  \n",
      "2003-12-05       2.948      2.934       2.943             0  \n"
     ]
    }
   ],
   "source": [
    "#Juntando os dados do IBOVESPA e do Dólar\n",
    "dados_ibov = dados_ibov.merge(dados_dolar, on='Date', suffixes=('','_Dolar'))\n",
    "# Removendo dados nulls que podem ter surgido na junção\n",
    "dados_ibov = dados_ibov.dropna()\n",
    "print(\"\\nDados combinados do IBOVESPA e Dólar:\")\n",
    "print(dados_ibov.head())\n"
   ]
  },
  {
   "cell_type": "markdown",
   "id": "f287810a",
   "metadata": {},
   "source": [
    "### Engenharia de Features"
   ]
  },
  {
   "cell_type": "code",
   "execution_count": 9,
   "id": "8fc6fe02",
   "metadata": {},
   "outputs": [
    {
     "name": "stdout",
     "output_type": "stream",
     "text": [
      "\n",
      "📋 Criando DataFrame com as colunas relevantes...\n",
      "Dados carregados com sucesso!\n",
      "\n",
      "📋 Criando a variável alvo (Target)...\n",
      "\n",
      "📋 Calculando a variação percentual diária...\n",
      "\n",
      "📋 Criando atributos de lags...\n",
      "\n",
      "📋 Criando médias móveis e médias exponenciais...\n",
      "\n",
      "📋 Limpando dados nulos...\n",
      "\n",
      "📋 Removendo colunas auxiliares...\n",
      "\n",
      "DataFrame após a Engenharia de Atributos com variação percentual:\n",
      "            Target  Daily_Change  Daily_Change_Dolar  Daily_Change_lag_2  \\\n",
      "Date                                                                       \n",
      "2004-01-19       1      0.009933            0.003891           -0.018676   \n",
      "2004-01-20       0      0.012572            0.000000            0.008405   \n",
      "2004-01-21       0     -0.015921            0.001762            0.009933   \n",
      "2004-01-22       1     -0.014291           -0.005276            0.012572   \n",
      "2004-01-23       1      0.021856            0.004243           -0.015921   \n",
      "\n",
      "            Daily_Change_lag_5  Daily_Change_lag_10  Daily_Change_lag_15  \\\n",
      "Date                                                                       \n",
      "2004-01-19            0.013380             0.048429             0.002681   \n",
      "2004-01-20           -0.012254             0.001870             0.005487   \n",
      "2004-01-21           -0.022598            -0.010859             0.010914   \n",
      "2004-01-22           -0.018676             0.017024             0.008664   \n",
      "2004-01-23            0.008405             0.008433             0.009399   \n",
      "\n",
      "            Daily_Change_lag_20  Daily_Change_lag_25  Daily_Change_lag_30  \\\n",
      "Date                                                                        \n",
      "2004-01-19             0.002414             0.017761            -0.003070   \n",
      "2004-01-20             0.021146            -0.013500             0.004008   \n",
      "2004-01-21             0.013680             0.015401            -0.006134   \n",
      "2004-01-22            -0.004793            -0.015120             0.022827   \n",
      "2004-01-23             0.011409            -0.012587             0.000431   \n",
      "\n",
      "            ...  MA_10_Daily_Change  EMA_10_Daily_Change  MA_15_Daily_Change  \\\n",
      "Date        ...                                                                \n",
      "2004-01-19  ...           -0.000534             0.001236            0.005170   \n",
      "2004-01-20  ...            0.000536             0.003297            0.005642   \n",
      "2004-01-21  ...            0.000030            -0.000197            0.003853   \n",
      "2004-01-22  ...           -0.003102            -0.002760            0.002323   \n",
      "2004-01-23  ...           -0.001759             0.001716            0.003154   \n",
      "\n",
      "            EMA_15_Daily_Change  MA_20_Daily_Change  EMA_20_Daily_Change  \\\n",
      "Date                                                                       \n",
      "2004-01-19             0.002237            0.006084             0.002702   \n",
      "2004-01-20             0.003529            0.005655             0.003642   \n",
      "2004-01-21             0.001098            0.004175             0.001778   \n",
      "2004-01-22            -0.000826            0.003700             0.000248   \n",
      "2004-01-23             0.002009            0.004222             0.002306   \n",
      "\n",
      "            MA_25_Daily_Change  EMA_25_Daily_Change  MA_30_Daily_Change  \\\n",
      "Date                                                                      \n",
      "2004-01-19            0.003931             0.002818            0.004573   \n",
      "2004-01-20            0.004974             0.003568            0.004858   \n",
      "2004-01-21            0.003721             0.002069            0.004532   \n",
      "2004-01-22            0.003755             0.000811            0.003295   \n",
      "2004-01-23            0.005132             0.002430            0.004009   \n",
      "\n",
      "            EMA_30_Daily_Change  \n",
      "Date                             \n",
      "2004-01-19             0.002750  \n",
      "2004-01-20             0.003384  \n",
      "2004-01-21             0.002138  \n",
      "2004-01-22             0.001078  \n",
      "2004-01-23             0.002419  \n",
      "\n",
      "[5 rows x 22 columns]\n",
      "\n",
      "Últimos 5 registros:\n",
      "            Target  Daily_Change  Daily_Change_Dolar  Daily_Change_lag_2  \\\n",
      "Date                                                                       \n",
      "2025-06-24       0      0.004496           -0.004458           -0.011541   \n",
      "2025-06-25       1     -0.010192            0.003003           -0.004121   \n",
      "2025-06-26       0      0.009921            0.008638            0.004496   \n",
      "2025-06-27       1     -0.001809           -0.014538           -0.010192   \n",
      "2025-06-30       0      0.014532            0.000237            0.009921   \n",
      "\n",
      "            Daily_Change_lag_5  Daily_Change_lag_10  Daily_Change_lag_15  \\\n",
      "Date                                                                       \n",
      "2025-06-24            0.014889            -0.002961            -0.001751   \n",
      "2025-06-25           -0.002987             0.005431             0.005549   \n",
      "2025-06-26           -0.000886             0.005072            -0.003955   \n",
      "2025-06-27           -0.011541             0.004901            -0.005591   \n",
      "2025-06-30           -0.004121            -0.004260            -0.000984   \n",
      "\n",
      "            Daily_Change_lag_20  Daily_Change_lag_25  Daily_Change_lag_30  \\\n",
      "Date                                                                        \n",
      "2025-06-24             0.002264             0.003226             0.000374   \n",
      "2025-06-25             0.010171             0.003395             0.017574   \n",
      "2025-06-26            -0.004680            -0.015909            -0.003886   \n",
      "2025-06-27            -0.002549            -0.004410             0.006581   \n",
      "2025-06-30            -0.010878             0.004014            -0.001055   \n",
      "\n",
      "            ...  MA_10_Daily_Change  EMA_10_Daily_Change  MA_15_Daily_Change  \\\n",
      "Date        ...                                                                \n",
      "2025-06-24  ...            0.001099            -0.000467            0.000203   \n",
      "2025-06-25  ...           -0.000463            -0.002235           -0.000846   \n",
      "2025-06-26  ...            0.000022            -0.000025            0.000079   \n",
      "2025-06-27  ...           -0.000649            -0.000349            0.000331   \n",
      "2025-06-30  ...            0.001230             0.002357            0.001366   \n",
      "\n",
      "            EMA_15_Daily_Change  MA_20_Daily_Change  EMA_20_Daily_Change  \\\n",
      "Date                                                                       \n",
      "2025-06-24            -0.000267           -0.000332            -0.000105   \n",
      "2025-06-25            -0.001507           -0.001350            -0.001065   \n",
      "2025-06-26            -0.000079           -0.000620            -0.000019   \n",
      "2025-06-27            -0.000295           -0.000583            -0.000189   \n",
      "2025-06-30             0.001558            0.000688             0.001213   \n",
      "\n",
      "            MA_25_Daily_Change  EMA_25_Daily_Change  MA_30_Daily_Change  \\\n",
      "Date                                                                      \n",
      "2025-06-24           -0.000691             0.000044            0.000172   \n",
      "2025-06-25           -0.001235            -0.000743           -0.000754   \n",
      "2025-06-26           -0.000201             0.000077           -0.000293   \n",
      "2025-06-27           -0.000097            -0.000068           -0.000573   \n",
      "2025-06-30            0.000323             0.001055           -0.000053   \n",
      "\n",
      "            EMA_30_Daily_Change  \n",
      "Date                             \n",
      "2025-06-24             0.000176  \n",
      "2025-06-25            -0.000493  \n",
      "2025-06-26             0.000179  \n",
      "2025-06-27             0.000051  \n",
      "2025-06-30             0.000985  \n",
      "\n",
      "[5 rows x 22 columns]\n",
      "\n",
      "✅O DataFrame final agora tem 4888 linhas e 22 colunas.\n",
      "✅As colunas são: ['Target', 'Daily_Change', 'Daily_Change_Dolar', 'Daily_Change_lag_2', 'Daily_Change_lag_5', 'Daily_Change_lag_10', 'Daily_Change_lag_15', 'Daily_Change_lag_20', 'Daily_Change_lag_25', 'Daily_Change_lag_30', 'MA_5_Daily_Change', 'EMA_5_Daily_Change', 'MA_10_Daily_Change', 'EMA_10_Daily_Change', 'MA_15_Daily_Change', 'EMA_15_Daily_Change', 'MA_20_Daily_Change', 'EMA_20_Daily_Change', 'MA_25_Daily_Change', 'EMA_25_Daily_Change', 'MA_30_Daily_Change', 'EMA_30_Daily_Change']\n"
     ]
    }
   ],
   "source": [
    "# Criamos um DataFrame para trabalhar com as features\n",
    "# Vamos manter apenas as colunas de fechamento e fechamento do dólar\n",
    "# para facilitar a engenharia de atributos\n",
    "print(\"\\n📋 Criando DataFrame com as colunas relevantes...\")\n",
    "df = dados_ibov[['Close','Close_Dolar']].copy()\n",
    "print(\"Dados carregados com sucesso!\")\n",
    "\n",
    "# Criamos a variável alvo (Target)\n",
    "# O alvo continua sendo a tendência de alta (1) ou baixa (0) do fechamento do dia seguinte\n",
    "print(\"\\n📋 Criando a variável alvo (Target)...\")\n",
    "df['Target'] = (df['Close'].shift(-1) > df['Close']).astype(int)\n",
    "\n",
    "# Criamos a coluna de variação percentual\n",
    "# Vamos calcular a variação diária para ser a nossa feature principal\n",
    "print(\"\\n📋 Calculando a variação percentual diária...\")\n",
    "df['Daily_Change'] = df['Close'].pct_change()\n",
    "df['Daily_Change_Dolar'] = df['Close_Dolar'].pct_change()\n",
    "\n",
    "# Criamos os atributos de \"lag\" (valores passados) baseados na variação percentual\n",
    "# O modelo vai prever a tendência do dia seguinte com base nas variações dos dias anteriores\n",
    "print(\"\\n📋 Criando atributos de lags...\")\n",
    "janela_lags = [2, 5, 10, 15, 20, 25, 30] # Exemplo de janelas de tempo para os lags\n",
    "for i in janela_lags:\n",
    "    df[f'Daily_Change_lag_{i}'] = df['Daily_Change'].shift(i)\n",
    "\n",
    "# Criamos atributos de Médias Móveis e Médias Exponenciais baseados na variação percentual\n",
    "# Isso ajuda a suavizar a volatilidade e identificar tendências de variação\n",
    "print(\"\\n📋 Criando médias móveis e médias exponenciais...\")\n",
    "janela_medias_moveis = [5, 10, 15, 20, 25, 30] # Janelas de tempo para as médias móveis\n",
    "for i in janela_medias_moveis:\n",
    "    df[f'MA_{i}_Daily_Change'] = df['Daily_Change'].rolling(window=i).mean()\n",
    "    df[f'EMA_{i}_Daily_Change'] = df['Daily_Change'].ewm(span=i, adjust=False).mean()\n",
    "\n",
    "\n",
    "# Limpamos os dados nulos\n",
    "# A criação de lags e médias móveis resulta em valores nulos (NaN) no início do DataFrame.\n",
    "# Também o último dia terá NaN na coluna 'Target'.\n",
    "# Além disso, a coluna 'Close_Dolar' pode ter NaN se o Dólar não tiver cotação naquele dia.\n",
    "print(\"\\n📋 Limpando dados nulos...\")\n",
    "df.dropna(inplace=True)\n",
    "\n",
    "# Removendo as colunas auxiliares que não serão features\n",
    "# As colunas 'Close' e 'Close_Dolar' foram usadas para criar as features, \n",
    "# mas o valor absoluto delas pode não ser útil se usarmos os lags e as médias.\n",
    "# é uma boa prática usar apenas as features derivadas para evitar vazamento de dados (data leakage) e multicolinearidade.\n",
    "print(\"\\n📋 Removendo colunas auxiliares...\")\n",
    "df.drop(['Close', 'Close_Dolar'], axis=1, inplace=True)\n",
    "\n",
    "print(\"\\nDataFrame após a Engenharia de Atributos com variação percentual:\")\n",
    "print(df.head())\n",
    "print(\"\\nÚltimos 5 registros:\")\n",
    "print(df.tail())\n",
    "\n",
    "print(f\"\\n✅O DataFrame final agora tem {len(df)} linhas e {len(df.columns)} colunas.\")\n",
    "print(\"✅As colunas são:\", list(df.columns))"
   ]
  },
  {
   "cell_type": "code",
   "execution_count": 10,
   "id": "681bacfe",
   "metadata": {},
   "outputs": [
    {
     "name": "stdout",
     "output_type": "stream",
     "text": [
      "\n",
      "📋 Visualizando as primeiras linhas do DataFrame com a variável alvo:\n"
     ]
    },
    {
     "data": {
      "application/vnd.microsoft.datawrangler.viewer.v0+json": {
       "columns": [
        {
         "name": "Date",
         "rawType": "datetime64[ns]",
         "type": "datetime"
        },
        {
         "name": "Daily_Change",
         "rawType": "float64",
         "type": "float"
        },
        {
         "name": "Target",
         "rawType": "int64",
         "type": "integer"
        }
       ],
       "ref": "5b94f3f7-1bfc-42af-b5ec-b233fb350e2f",
       "rows": [
        [
         "2004-01-19 00:00:00",
         "0.009933059814295042",
         "1"
        ],
        [
         "2004-01-20 00:00:00",
         "0.012572161642078195",
         "0"
        ],
        [
         "2004-01-21 00:00:00",
         "-0.015921280459478826",
         "0"
        ],
        [
         "2004-01-22 00:00:00",
         "-0.014290618831001578",
         "1"
        ],
        [
         "2004-01-23 00:00:00",
         "0.02185554442944837",
         "1"
        ]
       ],
       "shape": {
        "columns": 2,
        "rows": 5
       }
      },
      "text/html": [
       "<div>\n",
       "<style scoped>\n",
       "    .dataframe tbody tr th:only-of-type {\n",
       "        vertical-align: middle;\n",
       "    }\n",
       "\n",
       "    .dataframe tbody tr th {\n",
       "        vertical-align: top;\n",
       "    }\n",
       "\n",
       "    .dataframe thead th {\n",
       "        text-align: right;\n",
       "    }\n",
       "</style>\n",
       "<table border=\"1\" class=\"dataframe\">\n",
       "  <thead>\n",
       "    <tr style=\"text-align: right;\">\n",
       "      <th></th>\n",
       "      <th>Daily_Change</th>\n",
       "      <th>Target</th>\n",
       "    </tr>\n",
       "    <tr>\n",
       "      <th>Date</th>\n",
       "      <th></th>\n",
       "      <th></th>\n",
       "    </tr>\n",
       "  </thead>\n",
       "  <tbody>\n",
       "    <tr>\n",
       "      <th>2004-01-19</th>\n",
       "      <td>0.009933</td>\n",
       "      <td>1</td>\n",
       "    </tr>\n",
       "    <tr>\n",
       "      <th>2004-01-20</th>\n",
       "      <td>0.012572</td>\n",
       "      <td>0</td>\n",
       "    </tr>\n",
       "    <tr>\n",
       "      <th>2004-01-21</th>\n",
       "      <td>-0.015921</td>\n",
       "      <td>0</td>\n",
       "    </tr>\n",
       "    <tr>\n",
       "      <th>2004-01-22</th>\n",
       "      <td>-0.014291</td>\n",
       "      <td>1</td>\n",
       "    </tr>\n",
       "    <tr>\n",
       "      <th>2004-01-23</th>\n",
       "      <td>0.021856</td>\n",
       "      <td>1</td>\n",
       "    </tr>\n",
       "  </tbody>\n",
       "</table>\n",
       "</div>"
      ],
      "text/plain": [
       "            Daily_Change  Target\n",
       "Date                            \n",
       "2004-01-19      0.009933       1\n",
       "2004-01-20      0.012572       0\n",
       "2004-01-21     -0.015921       0\n",
       "2004-01-22     -0.014291       1\n",
       "2004-01-23      0.021856       1"
      ]
     },
     "execution_count": 10,
     "metadata": {},
     "output_type": "execute_result"
    }
   ],
   "source": [
    "#A variável alvo (Target) indica se o fechamento do dia seguinte será maior (1) ou menor (0) que o fechamento do dia atual.\n",
    "print(\"\\n📋 Visualizando as primeiras linhas do DataFrame com a variável alvo:\")\n",
    "df[['Daily_Change','Target']].head()"
   ]
  },
  {
   "cell_type": "markdown",
   "id": "d80a8114",
   "metadata": {},
   "source": [
    "### Modelo LTSM"
   ]
  },
  {
   "cell_type": "markdown",
   "id": "44f1ed2b",
   "metadata": {},
   "source": [
    "#### Introdução\n",
    "O LTSM (Long Short-Term Memory ou Memória de Longo e Curto Prazo) é um tipo especial de rede neural projetada para reconhecer padrões em sequências de dados, como, por exemplo, os dados históricos de uma bolsa de valores. "
   ]
  },
  {
   "cell_type": "markdown",
   "id": "d783802f",
   "metadata": {},
   "source": [
    "#### Janelas de Tempo\n",
    "Para um modelo de série temporal como a LSTM, você precisa criar \"janelas deslizantes\" de dados. Por exemplo, use os dados dos últimos 30 dias para prever a tendência do dia 31.\n",
    "A técnica de Janelas de Tempo prepara o modelo para analisar o comportamento dos últimos 30 dias (no nosso caso) para identificar uma tendência.\n",
    "É uma forma de preparar os dados, transformando uma longa série histórica (como anos de dados do IBOVESPA) em centenas de pequenos \"mini-exemplos\" de causa e efeito que o modelo pode aprender."
   ]
  },
  {
   "cell_type": "code",
   "execution_count": 11,
   "id": "a15b4b00",
   "metadata": {},
   "outputs": [
    {
     "name": "stdout",
     "output_type": "stream",
     "text": [
      "\n",
      "📋 Definindo o tamanho da janela de tempo...\n",
      "\n",
      "📋 Separando as features e o alvo...\n",
      "\n",
      "📋Criando janelas de tempo de 30 dias...\n",
      "✅ Janelas de tempo criadas com sucesso!\n",
      "Formato de X (janelas de features): (4858, 30, 21)\n",
      "Formato de y (alvos): (4858,)\n",
      "\n",
      "📋 Convertendo os dados para tensores do PyTorch...\n",
      "\n",
      "✅ Dados convertidos para tensores do PyTorch!\n",
      "✅ Formato do tensor X: torch.Size([4858, 30, 21])\n",
      "✅ Formato do tensor y: torch.Size([4858])\n"
     ]
    }
   ],
   "source": [
    "# Agora que temos o DataFrame pronto, vamos criar as janelas de tempo\n",
    "# Definindo o tamanho da janela de tempo\n",
    "# Vamos usar uma janela de 30 dias, que é a recomendação para o conjunto de testes\n",
    "print(\"\\n📋 Definindo o tamanho da janela de tempo...\")\n",
    "tamanho_janela = 30\n",
    "\n",
    "#Separamos as features e o alvo\n",
    "print(\"\\n📋 Separando as features e o alvo...\")\n",
    "# As colunas de features são todas as colunas, exceto a coluna 'Target'\n",
    "# A coluna 'Target' é a nossa variável dependente\n",
    "features = df.drop('Target', axis=1).values\n",
    "target = df['Target'].values\n",
    "\n",
    "#Criando a função para construir as janelas de tempo\n",
    "def criar_janelas_de_tempo(features, target, tamanho_janela):\n",
    "    X, y = [], []\n",
    "    for i in range(len(features) - tamanho_janela):\n",
    "        # Pega a janela de tempo das features\n",
    "        janela_features = features[i:(i + tamanho_janela)]\n",
    "        X.append(janela_features)\n",
    "        \n",
    "        # O alvo é o valor 'Target' do dia seguinte à janela\n",
    "        y.append(target[i + tamanho_janela])\n",
    "    \n",
    "    return np.array(X), np.array(y)\n",
    "\n",
    "#Criando as janelas e os alvos\n",
    "print(f\"\\n📋Criando janelas de tempo de {tamanho_janela} dias...\")\n",
    "X, y = criar_janelas_de_tempo(features, target, tamanho_janela)\n",
    "\n",
    "print(\"✅ Janelas de tempo criadas com sucesso!\")\n",
    "print(f\"Formato de X (janelas de features): {X.shape}\") # Exemplo: (1200, 30, 8)\n",
    "print(f\"Formato de y (alvos): {y.shape}\") # Exemplo: (1200,)\n",
    "\n",
    "# Convertendo os dados para tensores do PyTorch\n",
    "print(\"\\n📋 Convertendo os dados para tensores do PyTorch...\")\n",
    "X_tensor = torch.tensor(X, dtype=torch.float32)\n",
    "y_tensor = torch.tensor(y, dtype=torch.long) \n",
    "\n",
    "print(\"\\n✅ Dados convertidos para tensores do PyTorch!\")\n",
    "print(f\"✅ Formato do tensor X: {X_tensor.shape}\")\n",
    "print(f\"✅ Formato do tensor y: {y_tensor.shape}\")"
   ]
  },
  {
   "cell_type": "markdown",
   "id": "a862b710",
   "metadata": {},
   "source": [
    "#### Separando os dados em Treino e Teste"
   ]
  },
  {
   "cell_type": "code",
   "execution_count": 12,
   "id": "67759865",
   "metadata": {},
   "outputs": [
    {
     "name": "stdout",
     "output_type": "stream",
     "text": [
      "\n",
      "📋 Verificando o número total de registros e o número de features...\n",
      "✅ Número total de registros (janelas): 4858\n",
      "✅ Número de features por janela: 21\n",
      "\n",
      "📋 Separando os dados em conjuntos de treino e teste...\n",
      "✅ Dados separados com sucesso!\n",
      "Formato do conjunto de treino: torch.Size([4828, 30, 21]), torch.Size([4828])\n",
      "Tamanho do conjunto de treino: 4828\n",
      "\n",
      "Formato do conjunto de teste: torch.Size([30, 30, 21]), torch.Size([30])\n",
      "Tamanho do conjunto de teste: 30\n"
     ]
    }
   ],
   "source": [
    "# Verificando o número total de registros e o número de features\n",
    "# Aqui, num_registros_totais é o número total de janelas de tempo criadas\n",
    "# num_features é o número de features em cada janela de tempo\n",
    "print(\"\\n📋 Verificando o número total de registros e o número de features...\")\n",
    "num_registros_totais = X.shape[0]\n",
    "num_features = X.shape[2]\n",
    "print(f\"✅ Número total de registros (janelas): {num_registros_totais}\")\n",
    "print(f\"✅ Número de features por janela: {num_features}\")\n",
    "\n",
    "# Separando os dados em conjuntos de treino e teste\n",
    "# Conforme o requisito do projeto, o conjunto de testes deve conter os últimos 30 dias de dados.\n",
    "# Como cada janela é de 30 dias, e os alvos correspondem ao dia seguinte,\n",
    "# 30 dias de teste correspondem a 30 janelas de teste.\n",
    "print(\"\\n📋 Separando os dados em conjuntos de treino e teste...\")\n",
    "num_dias_teste = 30 \n",
    "num_janelas_teste = num_dias_teste\n",
    "# O tamanho do nosso conjunto de treino será o restante\n",
    "num_janelas_treino = len(X_tensor) - num_janelas_teste\n",
    "\n",
    "X_treino = X_tensor[:num_janelas_treino]\n",
    "y_treino = y_tensor[:num_janelas_treino]\n",
    "\n",
    "X_teste = X_tensor[num_janelas_treino:]\n",
    "y_teste = y_tensor[num_janelas_treino:]\n",
    "\n",
    "print(\"✅ Dados separados com sucesso!\")\n",
    "print(f\"Formato do conjunto de treino: {X_treino.shape}, {y_treino.shape}\")\n",
    "print(f\"Tamanho do conjunto de treino: {len(X_treino)}\")\n",
    "print(f\"\\nFormato do conjunto de teste: {X_teste.shape}, {y_teste.shape}\")\n",
    "print(f\"Tamanho do conjunto de teste: {len(X_teste)}\")\n"
   ]
  },
  {
   "cell_type": "markdown",
   "id": "47e7e997",
   "metadata": {},
   "source": [
    "#### Normalizando os dados"
   ]
  },
  {
   "cell_type": "code",
   "execution_count": 13,
   "id": "2dfd3b48",
   "metadata": {},
   "outputs": [
    {
     "name": "stdout",
     "output_type": "stream",
     "text": [
      "\n",
      "📋 Calculando a média e o desvio padrão do conjunto de treino...\n",
      "\n",
      "Parâmetros de normalização calculados (média e desvio padrão do treino):\n",
      "Média: tensor([0.0005, 0.0002, 0.0005, 0.0005, 0.0005, 0.0005, 0.0005, 0.0005, 0.0005,\n",
      "        0.0005, 0.0005, 0.0005, 0.0005, 0.0005, 0.0005, 0.0005, 0.0005, 0.0005,\n",
      "        0.0005, 0.0005, 0.0005])\n",
      "Desvio Padrão: tensor([0.0194, 0.0123, 0.0194, 0.0194, 0.0194, 0.0194, 0.0194, 0.0194, 0.0194,\n",
      "        0.0082, 0.0083, 0.0057, 0.0058, 0.0047, 0.0047, 0.0041, 0.0041, 0.0037,\n",
      "        0.0037, 0.0034, 0.0034])\n",
      "\n",
      "📋 Aplicando a normalização em ambos os conjuntos...\n",
      "\n",
      "📋 Verificando a normalização dos dados...\n",
      "Primeira janela do conjunto de treino original:\n",
      "tensor([ 0.0099,  0.0039, -0.0187,  0.0134,  0.0484,  0.0027,  0.0024,  0.0178,\n",
      "        -0.0031, -0.0070,  0.0008, -0.0005,  0.0012,  0.0052,  0.0022,  0.0061,\n",
      "         0.0027,  0.0039,  0.0028,  0.0046,  0.0028])\n",
      "Primeira janela do conjunto de treino normalizado:\n",
      "tensor([ 0.4846,  0.2987, -0.9914,  0.6623,  2.4684,  0.1106,  0.0968,  0.8867,\n",
      "        -0.1859, -0.9271,  0.0301, -0.1876,  0.1201,  0.9819,  0.3582,  1.3444,\n",
      "         0.5252,  0.9136,  0.6176,  1.1819,  0.6558])\n",
      "\n",
      "✅ Dados normalizados com sucesso!\n",
      "\n",
      "Formato final dos dados:\n",
      "X_treino normalizado: torch.Size([4828, 30, 21])\n",
      "y_treino: torch.Size([4828])\n",
      "X_teste normalizado: torch.Size([30, 30, 21])\n",
      "y_teste: torch.Size([30])\n"
     ]
    }
   ],
   "source": [
    "# normalizando os dados\n",
    "\n",
    "\n",
    "# Calculando a média e o desvio padrão APENAS no conjunto de treino\n",
    "# Precisamos calcular a média e o desvio padrão para cada feature, em todas as janelas e em todos os dias\n",
    "# Para isso, vamos \"achatar\" as dimensões de janela e tempo\n",
    "# X_treino.view(-1, num_features) transforma o tensor para (total_dias_treino, num_features)\n",
    "treino_flat = X_treino.view(-1, num_features)\n",
    "media_treino = treino_flat.mean(dim=0)\n",
    "desvio_padrao_treino = treino_flat.std(dim=0)\n",
    "\n",
    "print(\"\\n📋 Calculando a média e o desvio padrão do conjunto de treino...\")\n",
    "print(\"\\nParâmetros de normalização calculados (média e desvio padrão do treino):\")\n",
    "print(f\"Média: {media_treino}\")\n",
    "print(f\"Desvio Padrão: {desvio_padrao_treino}\")\n",
    "\n",
    "\n",
    "# Aplicando a normalização em ambos os conjuntos\n",
    "# Normalização (Standard Scaling): (x - media) / desvio_padrao\n",
    "print(\"\\n📋 Aplicando a normalização em ambos os conjuntos...\")\n",
    "X_treino_normalizado = (X_treino - media_treino) / desvio_padrao_treino\n",
    "X_teste_normalizado = (X_teste - media_treino) / desvio_padrao_treino # ATENÇÃO: usa os parâmetros do treino!\n",
    "\n",
    "# Verificando se a normalização foi aplicada corretamente\n",
    "print(\"\\n📋 Verificando a normalização dos dados...\")\n",
    "print(\"Primeira janela do conjunto de treino original:\")\n",
    "print(X_treino[0, 0, :]) # Mostra a primeira linha da primeira janela\n",
    "print(\"Primeira janela do conjunto de treino normalizado:\")\n",
    "print(X_treino_normalizado[0, 0, :]) # Mostra a primeira linha da primeira janela normalizada\n",
    "\n",
    "# O y_treino e y_teste não precisam ser normalizados, pois são os rótulos (0 ou 1)\n",
    "y_treino_final = y_treino\n",
    "y_teste_final = y_teste\n",
    "\n",
    "print(\"\\n✅ Dados normalizados com sucesso!\")\n",
    "print(\"\\nFormato final dos dados:\")\n",
    "print(f\"X_treino normalizado: {X_treino_normalizado.shape}\")\n",
    "print(f\"y_treino: {y_treino_final.shape}\")\n",
    "print(f\"X_teste normalizado: {X_teste_normalizado.shape}\")\n",
    "print(f\"y_teste: {y_teste_final.shape}\")"
   ]
  },
  {
   "cell_type": "markdown",
   "id": "a1269344",
   "metadata": {},
   "source": [
    "#### Dataset e DataLoader\n",
    "\n",
    "Criação do Conjunto de Dados e Carregador (Dataset e DataLoader):\n",
    "- Classe Dataset em PyTorch para carregar seus dados pré-processados e as janelas de tempo.\n",
    "- DataLoader para carregar os dados em lotes (batches), o que é mais eficiente para o treinamento"
   ]
  },
  {
   "cell_type": "code",
   "execution_count": 14,
   "id": "b8c92f4c",
   "metadata": {},
   "outputs": [
    {
     "name": "stdout",
     "output_type": "stream",
     "text": [
      "\n",
      "📋 Criando os objetos Dataset e DataLoader...\n",
      "\n",
      "✅ Objetos 'Dataset' criados com sucesso!\n",
      "Tamanho do dataset de treino: 4828 amostras.\n",
      "Tamanho do dataset de teste: 30 amostras.\n",
      "\n",
      "📋 Criando os objetos DataLoader...\n",
      "✅ Objetos 'DataLoader' criados com sucesso!\n",
      "Tamanho do lote (batch size): 64\n"
     ]
    }
   ],
   "source": [
    "\n",
    "# Agora que temos os dados normalizados, vamos criar os objetos Dataset e DataLoader\n",
    "\n",
    "print(\"\\n📋 Criando os objetos Dataset e DataLoader...\")\n",
    "\n",
    "#Criar uma classe Dataset personalizada\n",
    "class TimeSeriesDataset(Dataset):\n",
    "    def __init__(self, X, y):\n",
    "        # Inicializa o dataset com os tensores de features e targets\n",
    "        self.X = X\n",
    "        self.y = y\n",
    "\n",
    "    def __len__(self):\n",
    "        # Retorna o número total de amostras (janelas)\n",
    "        return len(self.X)\n",
    "\n",
    "    def __getitem__(self, idx):\n",
    "        # Retorna uma amostra (janela de features) e seu rótulo correspondente\n",
    "        return self.X[idx], self.y[idx]\n",
    "\n",
    "# Instanciabdo os objetos Dataset para treino e teste\n",
    "dataset_treino = TimeSeriesDataset(X_treino_normalizado, y_treino_final)\n",
    "dataset_teste = TimeSeriesDataset(X_teste_normalizado, y_teste_final)\n",
    "print(\"\\n✅ Objetos 'Dataset' criados com sucesso!\")\n",
    "print(f\"Tamanho do dataset de treino: {len(dataset_treino)} amostras.\")\n",
    "print(f\"Tamanho do dataset de teste: {len(dataset_teste)} amostras.\")\n",
    "\n",
    "# Agora vamos criar os objetos DataLoader\n",
    "# O DataLoader é responsável por carregar os dados em lotes (batches) durante o treinamento\n",
    "# Isso é mais eficiente do que carregar todos os dados de uma vez, especialmente para grandes conjuntos de dados.\n",
    "\n",
    "print(\"\\n📋 Criando os objetos DataLoader...\")\n",
    "tamanho_lote = 64 # Este é um hiperparâmetro ajustável\n",
    "# Um tamanho de lote (batch size) maior pode acelerar o treinamento,\n",
    "# mas consome mais memória. 64 é um bom valor inicial.\n",
    "\n",
    "# DataLoader de treino:\n",
    "# - 'batch_size': número de amostras por lote\n",
    "# - 'shuffle=True': embaralha os dados em cada época, o que ajuda o modelo\n",
    "#   a não aprender a ordem dos dados e melhora a generalização.\n",
    "dataloader_treino = DataLoader(dataset_treino, batch_size=tamanho_lote, shuffle=True)\n",
    "\n",
    "# DataLoader de teste:\n",
    "# - 'shuffle=False': não é necessário embaralhar os dados de teste.\n",
    "dataloader_teste = DataLoader(dataset_teste, batch_size=tamanho_lote, shuffle=False)\n",
    "\n",
    "print(\"✅ Objetos 'DataLoader' criados com sucesso!\")\n",
    "print(f\"Tamanho do lote (batch size): {tamanho_lote}\")\n"
   ]
  },
  {
   "cell_type": "markdown",
   "id": "3067ac8e",
   "metadata": {},
   "source": [
    "#### Treinamento do Modelo"
   ]
  },
  {
   "cell_type": "code",
   "execution_count": 15,
   "id": "15f5a31f",
   "metadata": {},
   "outputs": [
    {
     "name": "stdout",
     "output_type": "stream",
     "text": [
      "\n",
      "📋 Definindo o modelo de rede neural...\n",
      "\n",
      "📋 Configurando os parâmetros do modelo...\n",
      "Semente de aleatoriedade definida para: 42\n"
     ]
    },
    {
     "name": "stdout",
     "output_type": "stream",
     "text": [
      "\n",
      "✅ Parâmetros do modelo configurados com sucesso!\n",
      "Dispositivo usado: cuda\n",
      "Número de épocas: 33\n",
      "Tamanho do lote (batch size): 64\n",
      "Número de features: 21\n",
      "Tamanho do hidden layer: 64\n",
      "Número de camadas LSTM: 3\n",
      "Tamanho da saída (output size): 2\n",
      "\n",
      "📋 Iniciando o treinamento com salvamento de checkpoint...\n",
      "Época [1/33], Perda: 0.6942, Acurácia de Treino: 51.72%, Acurácia de Teste: 40.00%\n",
      "  --> Modelo salvo com a melhor acurácia de teste: 40.00%\n",
      "Época [2/33], Perda: 0.6931, Acurácia de Treino: 51.72%, Acurácia de Teste: 40.00%\n",
      "Época [3/33], Perda: 0.6927, Acurácia de Treino: 51.72%, Acurácia de Teste: 40.00%\n",
      "Época [4/33], Perda: 0.6928, Acurácia de Treino: 52.24%, Acurácia de Teste: 63.33%\n",
      "  --> Modelo salvo com a melhor acurácia de teste: 63.33%\n",
      "Época [5/33], Perda: 0.6925, Acurácia de Treino: 51.53%, Acurácia de Teste: 40.00%\n",
      "Época [6/33], Perda: 0.6929, Acurácia de Treino: 52.73%, Acurácia de Teste: 33.33%\n",
      "Época [7/33], Perda: 0.6935, Acurácia de Treino: 51.74%, Acurácia de Teste: 40.00%\n",
      "Época [8/33], Perda: 0.6921, Acurácia de Treino: 53.21%, Acurácia de Teste: 40.00%\n",
      "Época [9/33], Perda: 0.6912, Acurácia de Treino: 52.71%, Acurácia de Teste: 46.67%\n",
      "Época [10/33], Perda: 0.6883, Acurácia de Treino: 56.15%, Acurácia de Teste: 30.00%\n",
      "Época [11/33], Perda: 0.6859, Acurácia de Treino: 58.72%, Acurácia de Teste: 60.00%\n",
      "Época [12/33], Perda: 0.6749, Acurácia de Treino: 57.85%, Acurácia de Teste: 56.67%\n",
      "Época [13/33], Perda: 0.6626, Acurácia de Treino: 60.83%, Acurácia de Teste: 50.00%\n",
      "Época [14/33], Perda: 0.6519, Acurácia de Treino: 65.51%, Acurácia de Teste: 60.00%\n",
      "Época [15/33], Perda: 0.6228, Acurácia de Treino: 67.50%, Acurácia de Teste: 56.67%\n",
      "Época [16/33], Perda: 0.6021, Acurácia de Treino: 69.76%, Acurácia de Teste: 63.33%\n",
      "Época [17/33], Perda: 0.5664, Acurácia de Treino: 72.00%, Acurácia de Teste: 53.33%\n",
      "Época [18/33], Perda: 0.5328, Acurácia de Treino: 76.64%, Acurácia de Teste: 70.00%\n",
      "  --> Modelo salvo com a melhor acurácia de teste: 70.00%\n",
      "Época [19/33], Perda: 0.4937, Acurácia de Treino: 79.18%, Acurácia de Teste: 56.67%\n",
      "Época [20/33], Perda: 0.4471, Acurácia de Treino: 79.97%, Acurácia de Teste: 63.33%\n",
      "Época [21/33], Perda: 0.4107, Acurácia de Treino: 84.38%, Acurácia de Teste: 70.00%\n",
      "Época [22/33], Perda: 0.3555, Acurácia de Treino: 84.94%, Acurácia de Teste: 66.67%\n",
      "Época [23/33], Perda: 0.3313, Acurácia de Treino: 87.39%, Acurácia de Teste: 53.33%\n",
      "Época [24/33], Perda: 0.3032, Acurácia de Treino: 90.37%, Acurácia de Teste: 70.00%\n",
      "Época [25/33], Perda: 0.2606, Acurácia de Treino: 90.82%, Acurácia de Teste: 66.67%\n",
      "Época [26/33], Perda: 0.2490, Acurácia de Treino: 92.27%, Acurácia de Teste: 66.67%\n",
      "Época [27/33], Perda: 0.2004, Acurácia de Treino: 93.25%, Acurácia de Teste: 56.67%\n",
      "Época [28/33], Perda: 0.1885, Acurácia de Treino: 94.66%, Acurácia de Teste: 63.33%\n",
      "Época [29/33], Perda: 0.1721, Acurácia de Treino: 93.81%, Acurácia de Teste: 70.00%\n",
      "Época [30/33], Perda: 0.1587, Acurácia de Treino: 95.77%, Acurácia de Teste: 66.67%\n",
      "Época [31/33], Perda: 0.1573, Acurácia de Treino: 96.21%, Acurácia de Teste: 60.00%\n",
      "Época [32/33], Perda: 0.1186, Acurácia de Treino: 97.04%, Acurácia de Teste: 76.67%\n",
      "  --> Modelo salvo com a melhor acurácia de teste: 76.67%\n",
      "Época [33/33], Perda: 0.0906, Acurácia de Treino: 97.89%, Acurácia de Teste: 80.00%\n",
      "  --> Modelo salvo com a melhor acurácia de teste: 80.00%\n",
      "\n",
      "✅ Treinamento concluído!\n",
      "A melhor acurácia de teste alcançada foi: 80.00%\n"
     ]
    }
   ],
   "source": [
    "# Modelo de Rede Neural para prever a tendência do IBOVESPA\n",
    "# Definindo o modelo de rede neural\n",
    "# Usaremos uma LSTM (Long Short-Term Memory) para capturar as dependências temporais dos dados de séries temporais\n",
    "# A LSTM é uma arquitetura de rede neural recorrente (RNN) que é eficaz para sequências de dados, como séries temporais.\n",
    "\n",
    "print(\"\\n📋 Definindo o modelo de rede neural...\")\n",
    "class ModeloTendenciaIBOV(nn.Module):\n",
    "    def __init__(self, input_size, hidden_size, num_layers, output_size):\n",
    "        super(ModeloTendenciaIBOV, self).__init__()\n",
    "        self.hidden_size = hidden_size\n",
    "        self.num_layers = num_layers\n",
    "        self.lstm = nn.LSTM(input_size, hidden_size, num_layers, batch_first=True)\n",
    "        self.fc = nn.Linear(hidden_size, output_size)\n",
    "    def forward(self, x):\n",
    "        h0 = torch.zeros(self.num_layers, x.size(0), self.hidden_size).to(x.device)\n",
    "        c0 = torch.zeros(self.num_layers, x.size(0), self.hidden_size).to(x.device)\n",
    "        out, _ = self.lstm(x, (h0, c0))\n",
    "        out = self.fc(out[:, -1, :])\n",
    "        return out\n",
    "# Avaliação do modelo\n",
    "# A função avaliar_modelo recebe o modelo, o DataLoader e o dispositivo (CPU ou GPU)\n",
    "# Ela calcula a acurácia do modelo no conjunto de dados fornecido\n",
    "def avaliar_modelo(modelo, dataloader, device):\n",
    "    modelo.eval()\n",
    "    with torch.no_grad():\n",
    "        corretas = 0\n",
    "        total = 0\n",
    "        for lote_features, lote_targets in dataloader:\n",
    "            lote_features = lote_features.to(device)\n",
    "            lote_targets = lote_targets.to(device)\n",
    "            saidas = modelo(lote_features)\n",
    "            _, predicoes = torch.max(saidas.data, 1)\n",
    "            total += lote_targets.size(0)\n",
    "            corretas += (predicoes == lote_targets).sum().item()\n",
    "    acuracia = 100 * corretas / total\n",
    "    return acuracia\n",
    "\n",
    "\n",
    "\n",
    "#Loop de treinamento do modelo\n",
    "# Parâmetros e setup do modelo\n",
    "print(\"\\n📋 Configurando os parâmetros do modelo...\")\n",
    "SEMENTE_GLOBAL = 42\n",
    "definir_semente_reprodutibilidade_aprimorada(SEMENTE_GLOBAL)\n",
    "device = torch.device('cuda' if torch.cuda.is_available() else 'cpu')\n",
    "num_epocas = 33\n",
    "taxa_aprendizagem = 0.007\n",
    "num_features = X.shape[2]\n",
    "hidden_size = 64\n",
    "num_layers = 3\n",
    "output_size = 2\n",
    "modelo = ModeloTendenciaIBOV(num_features, hidden_size, num_layers, output_size).to(device)\n",
    "funcao_perda = nn.CrossEntropyLoss()\n",
    "otimizador = optim.Adam(modelo.parameters(), lr=taxa_aprendizagem)\n",
    "\n",
    "# Variáveis para salvar o melhor modelo\n",
    "melhor_acuracia_teste = 0.0\n",
    "caminho_melhor_modelo = 'melhor_modelo.pth'\n",
    "\n",
    "print(\"\\n✅ Parâmetros do modelo configurados com sucesso!\")\n",
    "print(f\"Dispositivo usado: {device}\")\n",
    "print(f\"Número de épocas: {num_epocas}\")\n",
    "print(f\"Tamanho do lote (batch size): {tamanho_lote}\")\n",
    "print(f\"Número de features: {num_features}\")\n",
    "print(f\"Tamanho do hidden layer: {hidden_size}\")\n",
    "print(f\"Número de camadas LSTM: {num_layers}\")\n",
    "print(f\"Tamanho da saída (output size): {output_size}\")\n",
    "\n",
    "print(\"\\n📋 Iniciando o treinamento com salvamento de checkpoint...\")\n",
    "\n",
    "for epoca in range(num_epocas):\n",
    "    modelo.train()\n",
    "    perda_total_epoca = 0\n",
    "    \n",
    "    for lote_features, lote_targets in dataloader_treino:\n",
    "        lote_features, lote_targets = lote_features.to(device), lote_targets.to(device)\n",
    "        saidas = modelo(lote_features)\n",
    "        perda = funcao_perda(saidas, lote_targets)\n",
    "        otimizador.zero_grad()\n",
    "        perda.backward()\n",
    "        otimizador.step()\n",
    "        perda_total_epoca += perda.item()\n",
    "\n",
    "    # Avaliação ao final de cada época\n",
    "    acuracia_treino = avaliar_modelo(modelo, dataloader_treino, device)\n",
    "    acuracia_teste = avaliar_modelo(modelo, dataloader_teste, device)\n",
    "    perda_media_epoca = perda_total_epoca / len(dataloader_treino)\n",
    "    \n",
    "    print(f'Época [{epoca+1}/{num_epocas}], Perda: {perda_media_epoca:.4f}, Acurácia de Treino: {acuracia_treino:.2f}%, Acurácia de Teste: {acuracia_teste:.2f}%')\n",
    "\n",
    "    # Salvar o modelo se a acurácia de teste for a melhor até agora\n",
    "    if acuracia_teste > melhor_acuracia_teste:\n",
    "        melhor_acuracia_teste = acuracia_teste\n",
    "        # Salvamos um dicionário contendo o estado do modelo e a acurácia\n",
    "        torch.save(modelo.state_dict(), caminho_melhor_modelo)\n",
    "        print(f\"  --> Modelo salvo com a melhor acurácia de teste: {melhor_acuracia_teste:.2f}%\")\n",
    "\n",
    "print(\"\\n✅ Treinamento concluído!\")\n",
    "print(f\"A melhor acurácia de teste alcançada foi: {melhor_acuracia_teste:.2f}%\")\n",
    "\n"
   ]
  },
  {
   "cell_type": "markdown",
   "id": "0c2bffd7",
   "metadata": {},
   "source": [
    "#### Avaliação do modelo"
   ]
  },
  {
   "cell_type": "code",
   "execution_count": 16,
   "id": "5a91e952",
   "metadata": {},
   "outputs": [
    {
     "name": "stdout",
     "output_type": "stream",
     "text": [
      "\n",
      "✅ Carregando o melhor modelo salvo de 'melhor_modelo.pth'...\n",
      "\n",
      "Matriz de Confusão:\n",
      "\n",
      "Verdadeiros positivos (TP): 11\n",
      "Falsos positivos (FP): 5\n",
      "Verdadeiros negativos (TN): 13\n",
      "Falsos negativos (FN): 1\n"
     ]
    },
    {
     "data": {
      "image/png": "[encoded data removed]",
      "text/plain": [
       "<Figure size 640x480 with 2 Axes>"
      ]
     },
     "metadata": {},
     "output_type": "display_data"
    },
    {
     "name": "stdout",
     "output_type": "stream",
     "text": [
      "Acurácia do teste calculada com sklearn: 80.00%\n"
     ]
    }
   ],
   "source": [
    "# Avaliação final do melhor modelo\n",
    "# ##########################################################################\n",
    "# CARREGAR O MELHOR MODELO SALVO\n",
    "# ##########################################################################\n",
    "\n",
    "print(f\"\\n✅ Carregando o melhor modelo salvo de '{caminho_melhor_modelo}'...\")\n",
    "melhor_modelo = ModeloTendenciaIBOV(num_features, hidden_size, num_layers, output_size).to(device)\n",
    "melhor_modelo.load_state_dict(torch.load(caminho_melhor_modelo))\n",
    "\n",
    "\n",
    "# Gerando as previsões para o conjunto de teste\n",
    "y_pred = []\n",
    "melhor_modelo.eval()\n",
    "for lote_features, _ in dataloader_teste:\n",
    "    lote_features = lote_features.to(device)\n",
    "    with torch.no_grad():\n",
    "        saidas = melhor_modelo(lote_features)\n",
    "    _, predicoes = torch.max(saidas.data, 1)\n",
    "    y_pred.extend(predicoes.cpu().numpy())\n",
    "\n",
    "# Gerando a matriz de confusão\n",
    "cm = confusion_matrix(y_teste_final, y_pred)\n",
    "print(\"\\nMatriz de Confusão:\")\n",
    "print(\"\\nVerdadeiros positivos (TP):\", cm[1, 1])\n",
    "print(\"Falsos positivos (FP):\", cm[0, 1])\n",
    "print(\"Verdadeiros negativos (TN):\", cm[0, 0])\n",
    "print(\"Falsos negativos (FN):\", cm[1, 0])\n",
    "# Plotando a matriz de confusão\n",
    "disp = ConfusionMatrixDisplay(confusion_matrix=cm, display_labels=['Baixa', 'Alta'])\n",
    "disp.plot(cmap=plt.cm.Blues)\n",
    "plt.title('Matriz de Confusão - Melhor Modelo')\n",
    "plt.show()\n",
    "\n",
    "# Avaliação final com sklearn\n",
    "test_accuracy = accuracy_score(y_teste_final, y_pred)\n",
    "print(f\"Acurácia do teste calculada com sklearn: {test_accuracy*100:.2f}%\")"
   ]
  },
  {
   "cell_type": "code",
   "execution_count": 17,
   "id": "5206da01",
   "metadata": {},
   "outputs": [
    {
     "name": "stdout",
     "output_type": "stream",
     "text": [
      "🎯 META ATINGIDA! Acurácia >= 75%\n",
      "Acurácia final do melhor modelo (carregado) no conjunto de teste: 80.00%\n"
     ]
    }
   ],
   "source": [
    "# Verifica se atingiu a meta\n",
    "if test_accuracy >= 0.75:\n",
    "    print(\"🎯 META ATINGIDA! Acurácia >= 75%\")\n",
    "else:\n",
    "    print(f\"⚠️  Meta não atingida. Faltam {(0.75 - test_accuracy)*100:.2f}% para 75%\")\n",
    "\n",
    "# Avaliação final do melhor modelo (carregado)\n",
    "acuracia_final_melhor_modelo = avaliar_modelo(melhor_modelo, dataloader_teste, device)\n",
    "print(f\"Acurácia final do melhor modelo (carregado) no conjunto de teste: {acuracia_final_melhor_modelo:.2f}%\")"
   ]
  }
 ],
 "metadata": {
  "kernelspec": {
   "display_name": "desafio-01-v3 (3.13.5)",
   "language": "python",
   "name": "python3"
  },
  "language_info": {
   "codemirror_mode": {
    "name": "ipython",
    "version": 3
   },
   "file_extension": ".py",
   "mimetype": "text/x-python",
   "name": "python",
   "nbconvert_exporter": "python",
   "pygments_lexer": "ipython3",
   "version": "3.13.5"
  }
 },
 "nbformat": 4,
 "nbformat_minor": 5
}
